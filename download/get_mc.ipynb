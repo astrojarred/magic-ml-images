{
 "cells": [
  {
   "cell_type": "markdown",
   "metadata": {},
   "source": [
    "# Downloading and processing data for DBHW course\n",
    "\n",
    "**ST0317**"
   ]
  },
  {
   "cell_type": "code",
   "execution_count": 7,
   "metadata": {},
   "outputs": [],
   "source": [
    "import dotenv\n",
    "\n",
    "# load in environment variables\n",
    "dotenv.load_dotenv()\n",
    "\n",
    "import datetime as dt\n",
    "import magicpy.analysis as analysis\n",
    "import magicpy.datalevel as dl\n",
    "import magicpy.periods as periods\n",
    "import magicpy.moons as moons\n",
    "import magicpy.zeniths as zeniths\n"
   ]
  },
  {
   "cell_type": "code",
   "execution_count": 8,
   "metadata": {},
   "outputs": [
    {
     "name": "stdout",
     "output_type": "stream",
     "text": [
      "Loading existing analysis from /remote/magicdata5/jgreen/MAGICPY_ANALYSIS/MC/ST0307/MC_ST0307_za05to35_None.magicpy\n",
      "INFO: RFs not found for: ST0307 za05to35 weak moon.\n",
      "INFO: RFs not found for: ST0307 za05to35 moderate moon.\n",
      "INFO: RFs not found for: ST0307 za05to35 decent moon.\n",
      "INFO: RFs not found for: ST0307 za05to35 strong moon.\n",
      "INFO: RFs not found for: ST0307 za05to35 high moon.\n",
      "INFO: RFs not found for: ST0307 za05to35 super moon.\n",
      "INFO: RFs not found for: ST0307 za05to35 reduced_decent moon.\n",
      "INFO: RFs not found for: ST0307 za05to35 reduced_strong moon.\n",
      "INFO: RFs not found for: ST0307 za05to35 reduced_high moon.\n"
     ]
    }
   ],
   "source": [
    "mc = analysis.MC(\n",
    "    period=periods.ST0307,\n",
    "    zenith=zeniths.za05to35,\n",
    ")"
   ]
  },
  {
   "cell_type": "code",
   "execution_count": 39,
   "metadata": {},
   "outputs": [
    {
     "data": {
      "text/plain": [
       "PosixPath('/remote/magicdata5/jgreen/MAGICPY_ANALYSIS/MC/ST0307/za05to35/weak/Calibrated_M1/GA_M1_za05to35_8_821319_Y_w0.root')"
      ]
     },
     "execution_count": 39,
     "metadata": {},
     "output_type": "execute_result"
    }
   ],
   "source": [
    "mc.runs.local_path.iloc[0]"
   ]
  },
  {
   "cell_type": "code",
   "execution_count": null,
   "metadata": {},
   "outputs": [],
   "source": [
    "mc.get_data(\n",
    "    data_level=[dl.Calibrated, dl.SuperStar]\n",
    ")"
   ]
  },
  {
   "cell_type": "markdown",
   "metadata": {},
   "source": [
    "# Get Proton files"
   ]
  },
  {
   "cell_type": "code",
   "execution_count": 24,
   "metadata": {},
   "outputs": [],
   "source": [
    "import os\n",
    "import certifi\n",
    "from webdav3.client import Client\n",
    "from webdav3.exceptions import ConnectionException\n",
    "from tqdm import tqdm\n",
    "from pathlib import Path\n",
    "import magicpy.constants as constants"
   ]
  },
  {
   "cell_type": "code",
   "execution_count": null,
   "metadata": {},
   "outputs": [],
   "source": [
    "output_dir = \"/remote/lstdata01/jgreen/MAGIC_MC/protons\""
   ]
  },
  {
   "cell_type": "code",
   "execution_count": null,
   "metadata": {},
   "outputs": [],
   "source": [
    "calibrated_m1_dir = \"https://webdav-magic.pic.es:8451/Data/MonteCarlo_Stereo/M1_DRS4_1039_M2_DRS4_1039/M1_AD3.5_MF0.68_M2_AD5.0_MF0.71/proton/za05to35/diffuse_4.0/mmcs699/calibrated_M1/\"\n",
    "calibrated_m2_dir = \"https://webdav-magic.pic.es:8451/Data/MonteCarlo_Stereo/M1_DRS4_1039_M2_DRS4_1039/M1_AD3.5_MF0.68_M2_AD5.0_MF0.71/proton/za05to35/diffuse_4.0/mmcs699/calibrated_M2/\"\n",
    "superstar_dir = \"https://webdav-magic.pic.es:8451/Data/MonteCarlo_Stereo/M1_DRS4_1039_M2_DRS4_1039/M1_AD3.5_MF0.68_M2_AD5.0_MF0.71/proton/za05to35/diffuse_4.0/mmcs699/superstar/\""
   ]
  },
  {
   "cell_type": "code",
   "execution_count": 29,
   "metadata": {},
   "outputs": [],
   "source": [
    "# remove URL from the front\n",
    "calibrated_m1_dir = calibrated_m1_dir = calibrated_m1_dir[len(constants.pic_webdav) :]\n",
    "calibrated_m2_dir = calibrated_m2_dir = calibrated_m2_dir[len(constants.pic_webdav) :]\n",
    "superstar_dir = superstar_dir = superstar_dir[len(constants.pic_webdav) :]\n",
    "\n",
    "output_dir = Path(output_dir).absolute()\n",
    "\n",
    "# start the webdav connection\n",
    "\n",
    "pic_username = os.getenv(\"PIC_USERNAME\")\n",
    "pic_password = os.getenv(\"PIC_PASSWORD\")\n",
    "\n",
    "dav_options = {\n",
    "    \"webdav_hostname\": constants.pic_webdav,\n",
    "    \"webdav_login\": pic_username,\n",
    "    \"webdav_password\": pic_password,\n",
    "    \"cert_path\": certifi.where(),\n",
    "}\n",
    "\n",
    "client = Client(dav_options)"
   ]
  },
  {
   "cell_type": "code",
   "execution_count": null,
   "metadata": {},
   "outputs": [],
   "source": [
    "local_files = []\n",
    "\n",
    "download_dirs = [\n",
    "    calibrated_m1_dir,\n",
    "    calibrated_m2_dir,\n",
    "    superstar_dir,\n",
    "]\n",
    "\n",
    "for download_dir in download_dirs:\n",
    "    \n",
    "    print(f\"Downloading from {download_dir}\")\n",
    "    \n",
    "    download_list = []\n",
    "\n",
    "    for file in client.list(download_dir):\n",
    "        if file.startswith(\"GA\") and file.endswith(\".root\"):\n",
    "            download_list.append(f\"{download_dir}{file}\")\n",
    "            \n",
    "    download_list = sorted(download_list)\n",
    "    \n",
    "    download_to = output_dir / Path(download_dir).name\n",
    "    \n",
    "    if not download_to.exists():\n",
    "        download_to.mkdir(parents=True)\n",
    "    \n",
    "    for file in tqdm(download_list):\n",
    "        local_file = download_to / Path(file).name\n",
    "        \n",
    "        if not local_file.exists():\n",
    "            client.download_sync(str(file), str(local_file))\n",
    "            \n",
    "        local_files.append(local_file)"
   ]
  }
 ],
 "metadata": {
  "kernelspec": {
   "display_name": ".venv",
   "language": "python",
   "name": "python3"
  },
  "language_info": {
   "codemirror_mode": {
    "name": "ipython",
    "version": 3
   },
   "file_extension": ".py",
   "mimetype": "text/x-python",
   "name": "python",
   "nbconvert_exporter": "python",
   "pygments_lexer": "ipython3",
   "version": "3.11.9"
  }
 },
 "nbformat": 4,
 "nbformat_minor": 2
}
