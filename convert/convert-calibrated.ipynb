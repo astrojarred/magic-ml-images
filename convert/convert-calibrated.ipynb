{
 "cells": [
  {
   "cell_type": "markdown",
   "metadata": {},
   "source": [
    "# Convert calibrated ROOT files to parquet"
   ]
  },
  {
   "cell_type": "code",
   "execution_count": 1,
   "metadata": {},
   "outputs": [
    {
     "name": "stdout",
     "output_type": "stream",
     "text": [
      "INFO: Pandarallel will run on 60 workers.\n",
      "INFO: Pandarallel will use Memory file system to transfer data between the main process and workers.\n"
     ]
    }
   ],
   "source": [
    "import sys\n",
    "from pathlib import Path\n",
    "\n",
    "import dotenv\n",
    "import pandas as pd\n",
    "from pandarallel import pandarallel\n",
    "\n",
    "sys.path.append(str(Path(\".\").absolute().parent / \"magicdl\"))\n",
    "import convert\n",
    "\n",
    "dotenv.load_dotenv()\n",
    "pandarallel.initialize(nb_workers=60, progress_bar=True)\n"
   ]
  },
  {
   "cell_type": "markdown",
   "metadata": {},
   "source": [
    "## Gammas"
   ]
  },
  {
   "cell_type": "code",
   "execution_count": 2,
   "metadata": {},
   "outputs": [],
   "source": [
    "gamma_dir = \"/mnt/scratch/jgreen/MAGIC_MC/root/gammas/ST0307/za05to35/weak\"\n",
    "output_dir = \"/mnt/scratch/jgreen/MAGIC_MC/DHBW-parquet/gammas\"\n",
    "\n",
    "gamma_dir = Path(gamma_dir).absolute()\n",
    "gamma_m1 = gamma_dir / \"Calibrated_M1\"\n",
    "gamma_m2 = gamma_dir / \"Calibrated_M2\"\n",
    "\n",
    "output_dir = Path(output_dir).absolute()\n",
    "output_dir.mkdir(parents=True, exist_ok=True)"
   ]
  },
  {
   "cell_type": "code",
   "execution_count": 3,
   "metadata": {},
   "outputs": [],
   "source": [
    "# find all the files in the m1 and m2 directories\n",
    "gamma_m1_files = sorted(list(gamma_m1.glob(\"*.root\")))\n",
    "gamma_m2_files = sorted(list(gamma_m2.glob(\"*.root\")))\n",
    "\n",
    "# create a dataframe with the run number and the file paths\n",
    "gamma_df = pd.DataFrame({\n",
    "    \"m1_file\": gamma_m1_files,\n",
    "    \"m2_file\": gamma_m2_files\n",
    "})\n",
    "\n",
    "gamma_df[\"run_number_m1\"] = gamma_df.m1_file.apply(lambda x: int(x.stem.split(\"_\")[4]))\n",
    "gamma_df[\"run_number_m2\"] = gamma_df.m2_file.apply(lambda x: int(x.stem.split(\"_\")[4]))\n",
    "\n",
    "# check that the run numbers are the same\n",
    "assert (gamma_df.run_number_m1 == gamma_df.run_number_m2).all()\n",
    "\n",
    "# drop the run number columns\n",
    "gamma_df = gamma_df.drop(columns=[\"run_number_m2\"]).rename(columns={\"run_number_m1\": \"run_number\"})"
   ]
  },
  {
   "cell_type": "code",
   "execution_count": 4,
   "metadata": {},
   "outputs": [
    {
     "data": {
      "application/vnd.jupyter.widget-view+json": {
       "model_id": "7da6cae9d2654978bf3bb47bdf9ec825",
       "version_major": 2,
       "version_minor": 0
      },
      "text/plain": [
       "VBox(children=(HBox(children=(IntProgress(value=0, description='0.00%', max=84), Label(value='0 / 84'))), HBox…"
      ]
     },
     "metadata": {},
     "output_type": "display_data"
    },
    {
     "name": "stdout",
     "output_type": "stream",
     "text": [
      "Processed 4999 file pairs\n",
      "Output files saved to: /mnt/scratch/jgreen/MAGIC_MC/DHBW-parquet/gammas\n"
     ]
    }
   ],
   "source": [
    "# Update the parallel processing call to include output_dir\n",
    "results = gamma_df.parallel_apply(\n",
    "    lambda row: convert.process_row(\n",
    "        row,\n",
    "        output_dir,\n",
    "        run_number_col=\"run_number\",\n",
    "        m1_filepath_col=\"m1_file\",\n",
    "        m2_filepath_col=\"m2_file\",\n",
    "    ),\n",
    "    axis=1,\n",
    ")\n",
    "\n",
    "# Print summary\n",
    "print(f\"Processed {len(results)} file pairs\")\n",
    "print(f\"Output files saved to: {output_dir}\")"
   ]
  },
  {
   "cell_type": "code",
   "execution_count": 5,
   "metadata": {},
   "outputs": [],
   "source": [
    "gamma_filepath = \"/mnt/scratch/jgreen/MAGIC_MC/DHBW-parquet/gammas\"\n",
    "\n",
    "g = pd.read_parquet(gamma_filepath)\n",
    "g.to_parquet(Path(gamma_filepath).parent / \"MAGIC_gammas.parquet\")\n",
    "print(f\"Saved {len(g)} rows to {Path(gamma_filepath).parent / 'MAGIC_gammas.parquet'}\")"
   ]
  },
  {
   "cell_type": "markdown",
   "metadata": {},
   "source": [
    "## Protons"
   ]
  },
  {
   "cell_type": "code",
   "execution_count": 19,
   "metadata": {},
   "outputs": [],
   "source": [
    "proton_dir = \"/mnt/scratch/jgreen/MAGIC_MC/root/protons\"\n",
    "proton_output_dir = \"/mnt/scratch/jgreen/MAGIC_MC/DHBW-parquet/protons\"\n",
    "\n",
    "proton_dir = Path(proton_dir).absolute()\n",
    "proton_m1 = proton_dir / \"calibrated_M1\"\n",
    "proton_m2 = proton_dir / \"calibrated_M2\"\n",
    "\n",
    "proton_output_dir = Path(proton_output_dir).absolute()\n",
    "proton_output_dir.mkdir(parents=True, exist_ok=True)\n",
    "\n",
    "# find all the files in the m1 and m2 directories\n",
    "proton_m1_files = sorted(list(proton_m1.glob(\"*.root\")))\n",
    "proton_m2_files = sorted(list(proton_m2.glob(\"*.root\")))\n",
    "\n",
    "# create a dataframe with the run number and the file paths\n",
    "proton_df = pd.DataFrame({\n",
    "    \"m1_file\": proton_m1_files,\n",
    "    \"m2_file\": proton_m2_files\n",
    "})\n",
    "\n",
    "proton_df[\"run_number_m1\"] = proton_df.m1_file.apply(lambda x: int(x.stem.split(\"_\")[4]))\n",
    "proton_df[\"run_number_m2\"] = proton_df.m2_file.apply(lambda x: int(x.stem.split(\"_\")[4]))\n",
    "\n",
    "# check that the run numbers are the same\n",
    "assert (proton_df.run_number_m1 == proton_df.run_number_m2).all()\n",
    "\n",
    "# drop the run number columns\n",
    "proton_df = proton_df.drop(columns=[\"run_number_m2\"]).rename(columns={\"run_number_m1\": \"run_number\"})\n",
    "\n"
   ]
  },
  {
   "cell_type": "code",
   "execution_count": 21,
   "metadata": {},
   "outputs": [
    {
     "data": {
      "application/vnd.jupyter.widget-view+json": {
       "model_id": "08a89e9393914ae4b637003270a392b8",
       "version_major": 2,
       "version_minor": 0
      },
      "text/plain": [
       "VBox(children=(HBox(children=(IntProgress(value=0, description='0.00%', max=167), Label(value='0 / 167'))), HB…"
      ]
     },
     "metadata": {},
     "output_type": "display_data"
    }
   ],
   "source": [
    "proton_results = proton_df.parallel_apply(\n",
    "    lambda row: convert.process_row(\n",
    "        row,\n",
    "        proton_output_dir,\n",
    "        run_number_col=\"run_number\",\n",
    "        m1_filepath_col=\"m1_file\",\n",
    "        m2_filepath_col=\"m2_file\",\n",
    "    ),\n",
    "    axis=1,\n",
    ")"
   ]
  },
  {
   "cell_type": "code",
   "execution_count": null,
   "metadata": {},
   "outputs": [],
   "source": [
    "proton_filepath = \"/mnt/scratch/jgreen/MAGIC_MC/DHBW-parquet/protons\"\n",
    "\n",
    "p = pd.read_parquet(proton_filepath)\n",
    "p.to_parquet(Path(proton_filepath).parent / \"MAGIC_protons.parquet\")\n",
    "print(f\"Saved {len(p)} rows to {Path(proton_filepath).parent / 'MAGIC_protons.parquet'}\")"
   ]
  },
  {
   "cell_type": "markdown",
   "metadata": {},
   "source": [
    "# Extract info + stats"
   ]
  },
  {
   "cell_type": "code",
   "execution_count": 2,
   "metadata": {},
   "outputs": [
    {
     "name": "stdout",
     "output_type": "stream",
     "text": [
      "Gamma file has 374069 rows\n",
      "Proton file has 105174 rows\n"
     ]
    }
   ],
   "source": [
    "gamma_file = \"/remote/lstdata01/jgreen/MAGIC_MC/DHBW-parquet/magic-gammas.parquet\"\n",
    "proton_file = \"/remote/lstdata01/jgreen/MAGIC_MC/DHBW-parquet/magic-protons.parquet\"\n",
    "\n",
    "g = pd.read_parquet(gamma_file)\n",
    "p = pd.read_parquet(proton_file)\n",
    "\n",
    "print(f\"Gamma file has {len(g)} rows\")\n",
    "print(f\"Proton file has {len(p)} rows\")"
   ]
  },
  {
   "cell_type": "code",
   "execution_count": 7,
   "metadata": {},
   "outputs": [
    {
     "name": "stdout",
     "output_type": "stream",
     "text": [
      "- event_number                            : 8\n",
      "- run_number                              : 821319\n",
      "- true_energy                             : 256.48870849609375\n",
      "- true_theta                              : 0.4074477553367615\n",
      "- true_phi                                : 1.9105716943740845\n",
      "- true_telescope_theta                    : 0.40294599533081055\n",
      "- true_telescope_phi                      : 1.8970308303833008\n",
      "- true_first_interaction_height           : 6084142.5\n",
      "- hillas_length_m1                        : 38.546714782714844\n",
      "- hillas_width_m1                         : 14.875171661376953\n",
      "- hillas_delta_m1                         : 0.9979684352874756\n",
      "- hillas_size_m1                          : 100.140625\n",
      "- hillas_cog_x_m1                         : -49.29415512084961\n",
      "- hillas_cog_y_m1                         : -127.39347839355469\n",
      "- hillas_sin_delta_m1                     : 0.8403716087341309\n",
      "- hillas_cos_delta_m1                     : 0.5420106649398804\n",
      "- hillas_length_m2                        : 53.240577697753906\n",
      "- hillas_width_m2                         : 20.60264778137207\n",
      "- hillas_delta_m2                         : 1.0661954879760742\n",
      "- hillas_size_m2                          : 395.3359375\n",
      "- hillas_cog_x_m2                         : -2.2874839305877686\n",
      "- hillas_cog_y_m2                         : -45.38836669921875\n",
      "- hillas_sin_delta_m2                     : 0.8753675222396851\n",
      "- hillas_cos_delta_m2                     : 0.48345810174942017\n",
      "- stereo_direction_x                      : -0.08029981702566147\n",
      "- stereo_direction_y                      : -0.29342564940452576\n",
      "- stereo_zenith                           : 22.79381561279297\n",
      "- stereo_azimuth                          : 64.51541137695312\n",
      "- stereo_dec                              : 0.2311498522758484\n",
      "- stereo_ra                               : 23.986814498901367\n",
      "- stereo_theta2                           : 0.45221999287605286\n",
      "- stereo_core_x                           : -1984.0457763671875\n",
      "- stereo_core_y                           : 1244.092041015625\n",
      "- stereo_impact_m1                        : 6209.8134765625\n",
      "- stereo_impact_m2                        : 1789.4246826171875\n",
      "- stereo_impact_azimuth_m1                : -147.72918701171875\n",
      "- stereo_impact_azimuth_m2                : 35.93690490722656\n",
      "- stereo_shower_max_height                : 1322673.0\n",
      "- stereo_xmax                             : 127.0617904663086\n",
      "- stereo_cherenkov_radius                 : 13777.875\n",
      "- stereo_cherenkov_density                : 0.8072033524513245\n",
      "- stereo_baseline_phi_m1                  : 171.24649047851562\n",
      "- stereo_baseline_phi_m2                  : 351.24652099609375\n",
      "- stereo_image_angle                      : 175.06027221679688\n",
      "- stereo_cos_between_shower               : 0.4700210690498352\n",
      "- pointing_zenith                         : 23.08710490415362\n",
      "- pointing_azimuth                        : 64.30813981283893\n",
      "- time_gradient_m1                        : -0.013668423536161997\n",
      "- time_gradient_m2                        : 0.013235051287879015\n",
      "- true_impact_m1                          : 14588.4052734375\n",
      "- true_impact_m2                          : 8104.26611328125\n",
      "- source_alpha_m1                         : 1.8224483728408813\n",
      "- source_dist_m1                          : 247.1794891357422\n",
      "- source_cos_delta_alpha_m1               : -0.999494194984436\n",
      "- source_dca_m1                           : -7.860891819000244\n",
      "- source_dca_delta_m1                     : 237.17938232421875\n",
      "- source_alpha_m2                         : 8.703943252563477\n",
      "- source_dist_m2                          : 153.1977081298828\n",
      "- source_cos_delta_alpha_m2               : -0.9884834885597229\n",
      "- source_dca_m2                           : -23.1832332611084\n",
      "- source_dca_delta_m2                     : 241.0885009765625\n",
      "- image_m1                                : len[1183]\n",
      "- image_m2                                : len[1183]\n",
      "- clean_image_m1                          : len[1183]\n",
      "- clean_image_m2                          : len[1183]\n",
      "- timing_m1                               : len[1183]\n",
      "- timing_m2                               : len[1183]\n"
     ]
    }
   ],
   "source": [
    "ex = g.iloc[0]\n",
    "\n",
    "for i, col in zip(ex, g.columns):\n",
    "    if hasattr(i, \"__len__\"):\n",
    "        print(f\"- {col:40}: len[{len(i)}]\")\n",
    "    else:\n",
    "        print(f\"- {col:40}: {i}\")\n"
   ]
  },
  {
   "cell_type": "code",
   "execution_count": null,
   "metadata": {},
   "outputs": [],
   "source": []
  }
 ],
 "metadata": {
  "kernelspec": {
   "display_name": "magicpy-env",
   "language": "python",
   "name": "magicpy-env"
  },
  "language_info": {
   "codemirror_mode": {
    "name": "ipython",
    "version": 3
   },
   "file_extension": ".py",
   "mimetype": "text/x-python",
   "name": "python",
   "nbconvert_exporter": "python",
   "pygments_lexer": "ipython3",
   "version": "3.11.9"
  }
 },
 "nbformat": 4,
 "nbformat_minor": 2
}
